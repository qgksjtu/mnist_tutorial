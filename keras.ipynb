{
 "cells": [
  {
   "cell_type": "markdown",
   "metadata": {},
   "source": [
    "# Keras Tutorial"
   ]
  },
  {
   "cell_type": "markdown",
   "metadata": {},
   "source": [
    "Keras is a popular deep learning framework and it's easy to get started."
   ]
  },
  {
   "cell_type": "code",
   "execution_count": 1,
   "metadata": {},
   "outputs": [
    {
     "name": "stderr",
     "output_type": "stream",
     "text": [
      "Using TensorFlow backend.\n"
     ]
    }
   ],
   "source": [
    "import keras\n",
    "from keras.datasets import mnist\n",
    "from keras.models import Sequential\n",
    "from keras.optimizers import SGD\n",
    "from keras.layers import Dense, Dropout, Flatten, Conv2D, MaxPooling2D \n",
    "\n",
    "BATCH_SIZE = 128\n",
    "NUM_CLASSES = 10\n",
    "NUM_EPOCHS = 10"
   ]
  },
  {
   "cell_type": "markdown",
   "metadata": {},
   "source": [
    "First, we read the mnist data and preprocess them."
   ]
  },
  {
   "cell_type": "code",
   "execution_count": 2,
   "metadata": {},
   "outputs": [],
   "source": [
    "# download and load the data (split them between train and test sets)\n",
    "(x_train, y_train), (x_test, y_test) = mnist.load_data()\n",
    "\n",
    "# expand the channel dimension\n",
    "x_train = x_train.reshape(x_train.shape[0], 28, 28, 1)\n",
    "x_test = x_test.reshape(x_test.shape[0], 28, 28, 1)\n",
    "input_shape = (28, 28, 1)\n",
    "\n",
    "# make the value of pixels from [0, 255] to [0, 1] for further process\n",
    "x_train = x_train.astype('float32') / 255.\n",
    "x_test = x_test.astype('float32') / 255.\n",
    "\n",
    "# convert class vectors to binary class matrics\n",
    "y_train = keras.utils.to_categorical(y_train, NUM_CLASSES)\n",
    "y_test = keras.utils.to_categorical(y_test, NUM_CLASSES)\n",
    "\n"
   ]
  },
  {
   "cell_type": "markdown",
   "metadata": {},
   "source": [
    "Then, we define the model, object function and optimizer that we use to classify."
   ]
  },
  {
   "cell_type": "code",
   "execution_count": 19,
   "metadata": {},
   "outputs": [
    {
     "name": "stdout",
     "output_type": "stream",
     "text": [
      "_________________________________________________________________\n",
      "Layer (type)                 Output Shape              Param #   \n",
      "=================================================================\n",
      "conv2d_17 (Conv2D)           (None, 26, 26, 16)        160       \n",
      "_________________________________________________________________\n",
      "conv2d_18 (Conv2D)           (None, 24, 24, 32)        4640      \n",
      "_________________________________________________________________\n",
      "max_pooling2d_12 (MaxPooling (None, 12, 12, 32)        0         \n",
      "_________________________________________________________________\n",
      "dropout_17 (Dropout)         (None, 12, 12, 32)        0         \n",
      "_________________________________________________________________\n",
      "flatten_9 (Flatten)          (None, 4608)              0         \n",
      "_________________________________________________________________\n",
      "dense_17 (Dense)             (None, 128)               589952    \n",
      "_________________________________________________________________\n",
      "dropout_18 (Dropout)         (None, 128)               0         \n",
      "_________________________________________________________________\n",
      "dense_18 (Dense)             (None, 10)                1290      \n",
      "=================================================================\n",
      "Total params: 596,042\n",
      "Trainable params: 596,042\n",
      "Non-trainable params: 0\n",
      "_________________________________________________________________\n"
     ]
    }
   ],
   "source": [
    "model = Sequential()\n",
    "\n",
    "\n",
    "model.add(Conv2D(filters=16,kernel_size=(3,3),input_shape=(28,28,1),activation='relu'))\n",
    "model.add(Conv2D(filters=32,kernel_size=(3,3),activation='relu'))\n",
    "model.add(MaxPooling2D(pool_size=(2,2)))\n",
    "model.add(Dropout(0.25))\n",
    "model.add(Flatten())\n",
    "model.add(Dense(128,activation='relu'))\n",
    "model.add(Dropout(0.5))\n",
    "model.add(Dense(NUM_CLASSES,activation='softmax'))\n",
    "model.summary()\n",
    "model.compile(loss='categorical_crossentropy', optimizer='adam',metrics=['accuracy'])\n"
   ]
  },
  {
   "cell_type": "markdown",
   "metadata": {},
   "source": [
    "Next, we can start to train and evaluate!"
   ]
  },
  {
   "cell_type": "code",
   "execution_count": 33,
   "metadata": {},
   "outputs": [
    {
     "name": "stdout",
     "output_type": "stream",
     "text": [
      "Train on 60000 samples, validate on 10000 samples\n",
      "Epoch 1/10\n",
      "60000/60000 [==============================] - 31s 512us/step - loss: 0.0182 - acc: 0.9940 - val_loss: 0.0322 - val_acc: 0.9926\n",
      "Epoch 2/10\n",
      "60000/60000 [==============================] - 31s 519us/step - loss: 0.0164 - acc: 0.9945 - val_loss: 0.0309 - val_acc: 0.9929\n",
      "Epoch 3/10\n",
      "60000/60000 [==============================] - 35s 588us/step - loss: 0.0161 - acc: 0.9944 - val_loss: 0.0292 - val_acc: 0.9921\n",
      "Epoch 4/10\n",
      "60000/60000 [==============================] - 46s 774us/step - loss: 0.0146 - acc: 0.9951 - val_loss: 0.0289 - val_acc: 0.9921\n",
      "Epoch 5/10\n",
      "60000/60000 [==============================] - 38s 635us/step - loss: 0.0157 - acc: 0.9947 - val_loss: 0.0290 - val_acc: 0.9932\n",
      "Epoch 6/10\n",
      "60000/60000 [==============================] - 37s 616us/step - loss: 0.0155 - acc: 0.9948 - val_loss: 0.0312 - val_acc: 0.9934\n",
      "Epoch 7/10\n",
      "60000/60000 [==============================] - 39s 643us/step - loss: 0.0136 - acc: 0.9956 - val_loss: 0.0305 - val_acc: 0.9930\n",
      "Epoch 8/10\n",
      "60000/60000 [==============================] - 38s 633us/step - loss: 0.0135 - acc: 0.9951 - val_loss: 0.0295 - val_acc: 0.9932\n",
      "Epoch 9/10\n",
      "60000/60000 [==============================] - 39s 648us/step - loss: 0.0159 - acc: 0.9945 - val_loss: 0.0315 - val_acc: 0.9923\n",
      "Epoch 10/10\n",
      "60000/60000 [==============================] - 42s 698us/step - loss: 0.0141 - acc: 0.9954 - val_loss: 0.0331 - val_acc: 0.9926\n",
      "Training loss: 0.0011, Training accuracy: 99.98%\n",
      "Testing loss: 0.0331, Testing accuracy: 99.26%\n"
     ]
    }
   ],
   "source": [
    "# train\n",
    "train_history=model.fit(x=x_train,y=y_train,validation_split=0.2,epochs=NUM_EPOCHS,batch_size=BATCH_SIZE,verbose=1,validation_data=(x_test, y_test))\n",
    "\n",
    "# evaluate\n",
    "score_train = model.evaluate(x_train,y_train, batch_size=BATCH_SIZE, verbose=0)\n",
    "print('Training loss: %.4f, Training accuracy: %.2f%%' % (score_train[0],score_train[1]*100))\n",
    "score_test = model.evaluate(x_test,y_test, batch_size=BATCH_SIZE, verbose=0)\n",
    "print('Testing loss: %.4f, Testing accuracy: %.2f%%' % (score_test[0],score_test[1]*100))"
   ]
  },
  {
   "cell_type": "raw",
   "metadata": {},
   "source": [
    "# Q6:\n",
    "Please print the training and testing accuracy.\n"
   ]
  }
 ],
 "metadata": {
  "kernelspec": {
   "display_name": "Python 3",
   "language": "python",
   "name": "python3"
  },
  "language_info": {
   "codemirror_mode": {
    "name": "ipython",
    "version": 3
   },
   "file_extension": ".py",
   "mimetype": "text/x-python",
   "name": "python",
   "nbconvert_exporter": "python",
   "pygments_lexer": "ipython3",
   "version": "3.5.6"
  }
 },
 "nbformat": 4,
 "nbformat_minor": 2
}
